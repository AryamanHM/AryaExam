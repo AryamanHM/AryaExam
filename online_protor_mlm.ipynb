{
  "nbformat": 4,
  "nbformat_minor": 0,
  "metadata": {
    "colab": {
      "provenance": []
    },
    "kernelspec": {
      "name": "python3",
      "display_name": "Python 3"
    },
    "language_info": {
      "name": "python"
    }
  },
  "cells": [
    {
      "cell_type": "code",
      "execution_count": 2,
      "metadata": {
        "id": "IK6JRlPehzZS"
      },
      "outputs": [],
      "source": [
        "import cv2\n",
        "import numpy as np\n",
        "\n",
        "class EyeTracker:\n",
        "    def __init__(self, face_cascade_path, eye_cascade_path):\n",
        "        self.face_cascade = cv2.CascadeClassifier(face_cascade_path)\n",
        "        self.eye_cascade = cv2.CascadeClassifier(eye_cascade_path)\n",
        "\n",
        "    def track(self, image):\n",
        "        face_rects = self.face_cascade.detectMultiScale(image, scaleFactor=1.1, minNeighbors=5, minSize=(30, 30))\n",
        "        rects = []\n",
        "        for (fx, fy, fw, fh) in face_rects:\n",
        "            face_roi = image[fy:fy+fh, fx:fx+fw]\n",
        "            eye_rects = self.eye_cascade.detectMultiScale(face_roi, scaleFactor=1.1, minNeighbors=10, minSize=(20, 20))\n",
        "            for (ex, ey, ew, eh) in eye_rects:\n",
        "                rects.append((fx+ex, fy+ey, fx+ex+ew, fy+ey+eh))\n",
        "        return rects\n",
        "\n",
        "def main():\n",
        "    face_cascade_path = 'haarcascade_frontalface_default.xml'\n",
        "    eye_cascade_path = 'haarcascade_eye.xml'\n",
        "    et = EyeTracker(face_cascade_path, eye_cascade_path)\n",
        "\n",
        "    camera = cv2.VideoCapture(0)\n",
        "\n",
        "    while True:\n",
        "        (grabbed, frame) = camera.read()\n",
        "        if not grabbed:\n",
        "            break\n",
        "        frame = cv2.resize(frame, width=300)\n",
        "        gray = cv2.cvtColor(frame, cv2.COLOR_BGR2GRAY)\n",
        "        rects = et.track(gray)\n",
        "        for rect in rects:\n",
        "            cv2.rectangle(frame, (rect[0], rect[1]), (rect[2], rect[3]), (0, 255, 0), 2)\n",
        "        cv2.imshow('Tracking', frame)\n",
        "        if cv2.waitKey(1) & 0xFF == ord('q'):\n",
        "            break\n",
        "\n",
        "    camera.release()\n",
        "    cv2.destroyAllWindows()\n",
        "\n",
        "if __name__ == '__main__':\n",
        "    main()"
      ]
    }
  ]
}